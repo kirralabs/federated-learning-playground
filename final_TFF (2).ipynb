{
 "cells": [
  {
   "cell_type": "code",
   "execution_count": null,
   "metadata": {
    "id": "dpGtWBWkDSFC"
   },
   "outputs": [],
   "source": [
    ""
   ]
  },
  {
   "cell_type": "code",
   "execution_count": null,
   "metadata": {
    "id": "2heEYHCmQdVq"
   },
   "outputs": [],
   "source": [
    ""
   ]
  },
  {
   "cell_type": "markdown",
   "metadata": {
    "id": "9BJSLeoHUd-y"
   },
   "source": [
    "# Install Dependency"
   ]
  },
  {
   "cell_type": "code",
   "execution_count": 1,
   "metadata": {
    "id": "i6Dkf9BZQdeE"
   },
   "outputs": [],
   "source": [
    "!pip install --quiet --upgrade tensorflow_federated\n",
    "!pip install --quiet --upgrade nest_asyncio\n",
    "\n",
    "import nest_asyncio\n",
    "nest_asyncio.apply()\n",
    "\n",
    "%load_ext tensorboard"
   ]
  },
  {
   "cell_type": "code",
   "execution_count": 2,
   "metadata": {
    "id": "4PjlDuZoVdo8",
    "outputId": "c9f412cd-109d-4062-c593-6edf185b0eb3",
    "colab": {
     "base_uri": "https://localhost:8080/"
    }
   },
   "outputs": [
    {
     "data": {
      "text/plain": [
       "b'Hello, World!'"
      ]
     },
     "execution_count": 2,
     "metadata": {
      "tags": []
     },
     "output_type": "execute_result"
    }
   ],
   "source": [
    "import collections\n",
    "\n",
    "import numpy as np\n",
    "import tensorflow as tf\n",
    "import tensorflow_federated as tff\n",
    "\n",
    "np.random.seed(0)\n",
    "\n",
    "tff.federated_computation(lambda: 'Hello, World!')()"
   ]
  },
  {
   "cell_type": "code",
   "execution_count": 3,
   "metadata": {
    "id": "q3i2yhVRtdsP",
    "outputId": "64d8e7fa-8098-41f6-a94d-18956e98331e",
    "colab": {
     "base_uri": "https://localhost:8080/"
    }
   },
   "outputs": [
    {
     "name": "stdout",
     "output_type": "stream",
     "text": [
      "[]\n"
     ]
    }
   ],
   "source": [
    "from tensorflow import config\n",
    "\n",
    "gpus = config.list_physical_devices('GPU')\n",
    "print(gpus)\n",
    "if gpus:\n",
    "  try:\n",
    "    for gpu in gpus:\n",
    "        config.experimental.set_memory_growth(gpu, True)\n",
    "  except RuntimeError as e:\n",
    "    print(e)"
   ]
  },
  {
   "cell_type": "markdown",
   "metadata": {
    "id": "y1weSRaqGACa"
   },
   "source": [
    "# Connect to Google drive"
   ]
  },
  {
   "cell_type": "code",
   "execution_count": 4,
   "metadata": {
    "id": "_O26z4d-DcZ7",
    "outputId": "f2bce385-069f-4842-a4f4-bba9f2d6a7e2",
    "colab": {
     "base_uri": "https://localhost:8080/"
    }
   },
   "outputs": [
    {
     "name": "stdout",
     "output_type": "stream",
     "text": [
      "Drive already mounted at /content/gdrive; to attempt to forcibly remount, call drive.mount(\"/content/gdrive\", force_remount=True).\n"
     ]
    }
   ],
   "source": [
    "from google.colab import drive\n",
    "drive.mount('/content/gdrive')"
   ]
  },
  {
   "cell_type": "code",
   "execution_count": 5,
   "metadata": {
    "id": "QTdNvQTjGMOq"
   },
   "outputs": [],
   "source": [
    "PATH_TO_DATA = \"/content/gdrive/My Drive/Colab Notebooks/data/TFF-DATA\"\n",
    "PRAPROCESSING_DATA = \"{}/Preprocessed\".format(PATH_TO_DATA)\n",
    "RAW_DATA = \"{}/Raw Data\".format(PATH_TO_DATA)"
   ]
  },
  {
   "cell_type": "markdown",
   "metadata": {
    "id": "CMYw3L7NFPFS"
   },
   "source": [
    "# Load data"
   ]
  },
  {
   "cell_type": "code",
   "execution_count": 6,
   "metadata": {
    "id": "FmkOGQXADccz",
    "outputId": "059ce775-f8d1-41f3-dac0-7fe13b482cdd",
    "colab": {
     "base_uri": "https://localhost:8080/"
    }
   },
   "outputs": [
    {
     "name": "stderr",
     "output_type": "stream",
     "text": [
      "  7%|▋         | 9943/144538 [00:00<00:02, 51519.60it/s]"
     ]
    },
    {
     "name": "stdout",
     "output_type": "stream",
     "text": [
      "\n",
      "Load data from  /content/gdrive/My Drive/Colab Notebooks/data/TFF-DATA/Preprocessed/mHealth_subject1.csv with total line  144538\n"
     ]
    },
    {
     "name": "stderr",
     "output_type": "stream",
     "text": [
      "100%|██████████| 144538/144538 [00:02<00:00, 48351.33it/s]\n",
      "  3%|▎         | 3924/113461 [00:00<00:02, 38581.96it/s]"
     ]
    },
    {
     "name": "stdout",
     "output_type": "stream",
     "text": [
      "\n",
      "Load data from  /content/gdrive/My Drive/Colab Notebooks/data/TFF-DATA/Preprocessed/mHealth_subject2.csv with total line  113461\n"
     ]
    },
    {
     "name": "stderr",
     "output_type": "stream",
     "text": [
      "100%|██████████| 113461/113461 [00:03<00:00, 30376.55it/s]\n",
      "  4%|▍         | 4632/105164 [00:00<00:02, 46316.51it/s]"
     ]
    },
    {
     "name": "stdout",
     "output_type": "stream",
     "text": [
      "\n",
      "Load data from  /content/gdrive/My Drive/Colab Notebooks/data/TFF-DATA/Preprocessed/mHealth_subject3.csv with total line  105164\n"
     ]
    },
    {
     "name": "stderr",
     "output_type": "stream",
     "text": [
      "100%|██████████| 105164/105164 [00:02<00:00, 48037.31it/s]\n",
      "  5%|▍         | 4936/99840 [00:00<00:01, 49357.22it/s]"
     ]
    },
    {
     "name": "stdout",
     "output_type": "stream",
     "text": [
      "\n",
      "Load data from  /content/gdrive/My Drive/Colab Notebooks/data/TFF-DATA/Preprocessed/mHealth_subject4.csv with total line  99840\n"
     ]
    },
    {
     "name": "stderr",
     "output_type": "stream",
     "text": [
      "100%|██████████| 99840/99840 [00:02<00:00, 47259.35it/s]\n",
      "  4%|▍         | 4514/104293 [00:00<00:02, 45135.52it/s]"
     ]
    },
    {
     "name": "stdout",
     "output_type": "stream",
     "text": [
      "\n",
      "Load data from  /content/gdrive/My Drive/Colab Notebooks/data/TFF-DATA/Preprocessed/mHealth_subject5.csv with total line  104293\n"
     ]
    },
    {
     "name": "stderr",
     "output_type": "stream",
     "text": [
      "100%|██████████| 104293/104293 [00:02<00:00, 48817.16it/s]\n",
      "  6%|▌         | 5016/84531 [00:00<00:01, 50154.55it/s]"
     ]
    },
    {
     "name": "stdout",
     "output_type": "stream",
     "text": [
      "\n",
      "Load data from  /content/gdrive/My Drive/Colab Notebooks/data/TFF-DATA/Preprocessed/mHealth_subject6.csv with total line  84531\n"
     ]
    },
    {
     "name": "stderr",
     "output_type": "stream",
     "text": [
      "100%|██████████| 84531/84531 [00:01<00:00, 48164.07it/s]\n",
      "  6%|▌         | 5200/88627 [00:00<00:01, 51991.50it/s]"
     ]
    },
    {
     "name": "stdout",
     "output_type": "stream",
     "text": [
      "\n",
      "Load data from  /content/gdrive/My Drive/Colab Notebooks/data/TFF-DATA/Preprocessed/mHealth_subject7.csv with total line  88627\n"
     ]
    },
    {
     "name": "stderr",
     "output_type": "stream",
     "text": [
      "100%|██████████| 88627/88627 [00:01<00:00, 47333.69it/s]\n",
      "  4%|▍         | 4728/114124 [00:00<00:02, 47279.48it/s]"
     ]
    },
    {
     "name": "stdout",
     "output_type": "stream",
     "text": [
      "\n",
      "Load data from  /content/gdrive/My Drive/Colab Notebooks/data/TFF-DATA/Preprocessed/mHealth_subject8.csv with total line  114124\n"
     ]
    },
    {
     "name": "stderr",
     "output_type": "stream",
     "text": [
      "100%|██████████| 114124/114124 [00:02<00:00, 47522.75it/s]\n",
      "  4%|▍         | 4619/119246 [00:00<00:02, 46185.31it/s]"
     ]
    },
    {
     "name": "stdout",
     "output_type": "stream",
     "text": [
      "\n",
      "Load data from  /content/gdrive/My Drive/Colab Notebooks/data/TFF-DATA/Preprocessed/mHealth_subject9.csv with total line  119246\n"
     ]
    },
    {
     "name": "stderr",
     "output_type": "stream",
     "text": [
      "100%|██████████| 119246/119246 [00:02<00:00, 46370.81it/s]\n",
      "  6%|▌         | 4606/83046 [00:00<00:01, 46054.66it/s]"
     ]
    },
    {
     "name": "stdout",
     "output_type": "stream",
     "text": [
      "\n",
      "Load data from  /content/gdrive/My Drive/Colab Notebooks/data/TFF-DATA/Preprocessed/mHealth_subject10.csv with total line  83046\n"
     ]
    },
    {
     "name": "stderr",
     "output_type": "stream",
     "text": [
      "100%|██████████| 83046/83046 [00:01<00:00, 47904.63it/s]\n"
     ]
    }
   ],
   "source": [
    "from __future__ import absolute_import, division, print_function\n",
    "\n",
    "import os\n",
    "import glob\n",
    "import tqdm\n",
    "import numpy as np\n",
    "\n",
    "def getUserKey():\n",
    "  data = []\n",
    "  for filename in glob.glob(os.path.join(FILE_USED, '*.csv')):\n",
    "    file = filename.split(\"/\")[-1]\n",
    "    data.append(file)\n",
    "  return data\n",
    "\n",
    "def convertToNumpy(data):\n",
    "  x = np.array(data)\n",
    "  x = x.astype(np.float)\n",
    "  return x\n",
    "\n",
    "def mapValueToData(lines):\n",
    "  for i in tqdm.tqdm(range(len(lines))):\n",
    "      item = lines[i]\n",
    "      data = item.split(\",\")\n",
    "      x = convertToNumpy(data[:-1])\n",
    "      y = int(data[-1])\n",
    "      yield x, y\n",
    "\n",
    "def readFileToArray(filename):\n",
    "  x_data = []\n",
    "  y_data = []\n",
    "  with open(filename, \"r\") as fi:\n",
    "    lines = fi.readlines()\n",
    "    print()\n",
    "    print(\"Load data from \", filename, \"with total line \", len(lines))\n",
    "    for x, y in mapValueToData(lines):\n",
    "      x_data.append(x)\n",
    "      y_data.append(y)\n",
    "  return x_data, y_data\n",
    "\n",
    "FILE_USED = PRAPROCESSING_DATA\n",
    "X = {}\n",
    "Y = {}\n",
    "for filename in glob.glob(os.path.join(FILE_USED, '*.csv')):\n",
    "  file = filename.split(\"/\")[-1]\n",
    "  x_train, y_train = readFileToArray(filename)\n",
    "  X[file] = x_train\n",
    "  Y[file] = y_train"
   ]
  },
  {
   "cell_type": "code",
   "execution_count": 7,
   "metadata": {
    "id": "thbPE4D7GkHh",
    "outputId": "c76c3d26-d88f-47fc-9661-2b0c8b3421bc",
    "colab": {
     "base_uri": "https://localhost:8080/"
    }
   },
   "outputs": [
    {
     "name": "stdout",
     "output_type": "stream",
     "text": [
      "[array([-9.8184e+00,  9.9710e-03,  2.9563e-01,  4.1863e-03,  4.1863e-03,\n",
      "        6.3077e-01,  1.0390e-01, -8.4053e-01, -6.8762e-01, -3.7000e-01,\n",
      "       -3.6327e-01,  2.9963e-01, -8.6499e+00, -4.5781e+00,  1.8776e-01,\n",
      "       -4.4902e-01, -1.0103e+00,  3.4483e-02, -2.3500e+00, -1.6102e+00,\n",
      "       -3.0899e-02]), array([-9.8489e+00,  5.2404e-01,  3.7348e-01,  4.1863e-03,  1.6745e-02,\n",
      "        6.8389e-01,  8.5343e-02, -8.3865e-01, -6.8369e-01, -1.9799e-01,\n",
      "       -1.8151e-01,  5.8298e-01, -8.6275e+00, -4.3198e+00,  2.3595e-02,\n",
      "       -4.4902e-01, -1.0103e+00,  3.4483e-02, -2.1632e+00, -8.8254e-01,\n",
      "        3.2657e-01])]\n",
      " Total data from user 'mHealth_subject1.csv' is [144538]\n"
     ]
    }
   ],
   "source": [
    "userkey = getUserKey()\n",
    "user = 0 # first user\n",
    "print(X[userkey[user]][:2])\n",
    "print(\" Total data from user '{}' is [{}]\".format(userkey[user], len(X[userkey[user]])))"
   ]
  },
  {
   "cell_type": "code",
   "execution_count": 7,
   "metadata": {
    "id": "03lybpldDcfX"
   },
   "outputs": [],
   "source": [
    ""
   ]
  },
  {
   "cell_type": "code",
   "execution_count": 7,
   "metadata": {
    "id": "UeidxafAH6Fw"
   },
   "outputs": [],
   "source": [
    ""
   ]
  },
  {
   "cell_type": "markdown",
   "metadata": {
    "id": "-QESMw7EH6Ua"
   },
   "source": [
    "# Split Data"
   ]
  },
  {
   "cell_type": "code",
   "execution_count": 8,
   "metadata": {
    "id": "4x9c023GICPQ",
    "outputId": "a7db65d6-73d9-4eb9-8c48-53d45129ee3f",
    "colab": {
     "base_uri": "https://localhost:8080/"
    }
   },
   "outputs": [
    {
     "name": "stdout",
     "output_type": "stream",
     "text": [
      "'mHealth_subject10.csv' 115630 28908\n",
      "'mHealth_subject10.csv' 90768 22693\n",
      "'mHealth_subject10.csv' 84131 21033\n",
      "'mHealth_subject10.csv' 79872 19968\n",
      "'mHealth_subject10.csv' 83434 20859\n",
      "'mHealth_subject10.csv' 67624 16907\n",
      "'mHealth_subject10.csv' 70901 17726\n",
      "'mHealth_subject10.csv' 91299 22825\n",
      "'mHealth_subject10.csv' 95396 23850\n",
      "'mHealth_subject10.csv' 66436 16610\n"
     ]
    }
   ],
   "source": [
    "from sklearn.model_selection import train_test_split\n",
    "\n",
    "\n",
    "X_TRAIN = {}\n",
    "Y_TRAIN = {}\n",
    "X_TEST = {}\n",
    "Y_TEST = {}\n",
    "\n",
    "test_size = 0.2\n",
    "\n",
    "userkey = getUserKey()\n",
    "for user in userkey:\n",
    "  x_user = X[user]\n",
    "  y_user = Y[user]\n",
    "  x_train_user, x_test_user, y_train_user, y_test_user = train_test_split(x_user, y_user, test_size=test_size, random_state=2019)\n",
    "  X_TRAIN[user] = x_train_user\n",
    "  Y_TRAIN[user] = y_train_user\n",
    "  X_TEST[user] = x_test_user\n",
    "  Y_TEST[user] = y_test_user\n",
    "  # print(user, len(y_user), y_user[0], x_user[0], len(x_train_user), len(x_test_user))\n",
    "  print(\"'{}' {} {}\".format(file, len(x_train_user), len(x_test_user)))"
   ]
  },
  {
   "cell_type": "code",
   "execution_count": 9,
   "metadata": {
    "id": "QfzLkAFxJEr_",
    "outputId": "db7e0b65-6216-42c3-e27d-70d278c53daf",
    "colab": {
     "base_uri": "https://localhost:8080/"
    }
   },
   "outputs": [
    {
     "name": "stdout",
     "output_type": "stream",
     "text": [
      "Total data -> x_train_all:845491 y_train_all:845491 x_test_all:211379 y_test_all:211379\n"
     ]
    }
   ],
   "source": [
    "\n",
    "userkey = getUserKey()\n",
    "x_train_all = X_TRAIN[userkey[0]]\n",
    "y_train_all = Y_TRAIN[userkey[0]]\n",
    "x_test_all = X_TEST[userkey[0]]\n",
    "y_test_all = Y_TEST[userkey[0]]\n",
    "for user in userkey[1:]:\n",
    "  x_train_all = np.concatenate((x_train_all, X_TRAIN[user]))\n",
    "  y_train_all = np.concatenate((y_train_all, Y_TRAIN[user]))\n",
    "  x_test_all = np.concatenate((x_test_all, X_TEST[user]))\n",
    "  y_test_all = np.concatenate((y_test_all, Y_TEST[user]))\n",
    "print(\"Total data -> x_train_all:{} y_train_all:{} x_test_all:{} y_test_all:{}\".format(len(x_train_all), len(y_train_all), len(x_test_all), len(y_test_all)))"
   ]
  },
  {
   "cell_type": "code",
   "execution_count": 9,
   "metadata": {
    "id": "2_td3WzQLCvj"
   },
   "outputs": [],
   "source": [
    ""
   ]
  },
  {
   "cell_type": "code",
   "execution_count": 9,
   "metadata": {
    "id": "1jakrpFENzSi"
   },
   "outputs": [],
   "source": [
    ""
   ]
  },
  {
   "cell_type": "code",
   "execution_count": 9,
   "metadata": {
    "id": "Y5w64eWJNzfu"
   },
   "outputs": [],
   "source": [
    ""
   ]
  },
  {
   "cell_type": "markdown",
   "metadata": {
    "id": "6IkHA-T6NznE"
   },
   "source": [
    "# Mapping to Training Format, TFF"
   ]
  },
  {
   "cell_type": "code",
   "execution_count": 10,
   "metadata": {
    "id": "P9D_toqCN54i"
   },
   "outputs": [],
   "source": [
    "import collections\n",
    "from tensorflow_federated import python as tff\n",
    "\n",
    "userkey = getUserKey()\n",
    "client_train_dataset = collections.OrderedDict()\n",
    "for user in userkey:\n",
    "  data = collections.OrderedDict((('label', Y_TRAIN[user]), ('sensor_data', X_TRAIN[user])))\n",
    "  client_train_dataset[user] = data"
   ]
  },
  {
   "cell_type": "code",
   "execution_count": 11,
   "metadata": {
    "id": "8944cZ8e3YSy"
   },
   "outputs": [],
   "source": [
    "userkey = getUserKey()\n",
    "client_test_dataset = collections.OrderedDict()\n",
    "for user in userkey:\n",
    "  data = collections.OrderedDict((('label', Y_TEST[user]), ('sensor_data', X_TEST[user])))\n",
    "  client_test_dataset[user] = data"
   ]
  },
  {
   "cell_type": "code",
   "execution_count": 12,
   "metadata": {
    "id": "wiFDeJPXOjh6",
    "outputId": "c3a93728-1463-4721-bd6c-0b22d708bba1",
    "colab": {
     "base_uri": "https://localhost:8080/"
    }
   },
   "outputs": [
    {
     "data": {
      "text/plain": [
       "<tensorflow_federated.python.simulation.from_tensor_slices_client_data.FromTensorSlicesClientData at 0x7f5cefeab5f8>"
      ]
     },
     "execution_count": 12,
     "metadata": {
      "tags": []
     },
     "output_type": "execute_result"
    }
   ],
   "source": [
    "train_dataset = tff.simulation.FromTensorSlicesClientData(client_train_dataset)\n",
    "train_dataset"
   ]
  },
  {
   "cell_type": "code",
   "execution_count": 13,
   "metadata": {
    "id": "GtqwFs5t3hcb",
    "outputId": "563de050-4777-40a6-b8ce-c93611d5078d",
    "colab": {
     "base_uri": "https://localhost:8080/"
    }
   },
   "outputs": [
    {
     "data": {
      "text/plain": [
       "<tensorflow_federated.python.simulation.from_tensor_slices_client_data.FromTensorSlicesClientData at 0x7f5cf057a908>"
      ]
     },
     "execution_count": 13,
     "metadata": {
      "tags": []
     },
     "output_type": "execute_result"
    }
   ],
   "source": [
    "test_dataset = tff.simulation.FromTensorSlicesClientData(client_test_dataset)\n",
    "test_dataset"
   ]
  },
  {
   "cell_type": "code",
   "execution_count": 14,
   "metadata": {
    "id": "c7MufaOLQVFr",
    "outputId": "3802a14a-f31e-4b06-8d25-3d6160c24f6c",
    "colab": {
     "base_uri": "https://localhost:8080/"
    }
   },
   "outputs": [
    {
     "data": {
      "text/plain": [
       "10"
      ]
     },
     "execution_count": 14,
     "metadata": {
      "tags": []
     },
     "output_type": "execute_result"
    }
   ],
   "source": [
    "len(train_dataset.client_ids)"
   ]
  },
  {
   "cell_type": "code",
   "execution_count": 15,
   "metadata": {
    "id": "v1eLArsUQqXv",
    "outputId": "c3f26c51-d8be-4a5a-a7f2-867cb74ea842",
    "colab": {
     "base_uri": "https://localhost:8080/"
    }
   },
   "outputs": [
    {
     "data": {
      "text/plain": [
       "['mHealth_subject1.csv',\n",
       " 'mHealth_subject2.csv',\n",
       " 'mHealth_subject3.csv',\n",
       " 'mHealth_subject4.csv',\n",
       " 'mHealth_subject5.csv',\n",
       " 'mHealth_subject6.csv',\n",
       " 'mHealth_subject7.csv',\n",
       " 'mHealth_subject8.csv',\n",
       " 'mHealth_subject9.csv',\n",
       " 'mHealth_subject10.csv']"
      ]
     },
     "execution_count": 15,
     "metadata": {
      "tags": []
     },
     "output_type": "execute_result"
    }
   ],
   "source": [
    "train_dataset.client_ids"
   ]
  },
  {
   "cell_type": "code",
   "execution_count": 16,
   "metadata": {
    "id": "n7u7EA9AQ3bD",
    "outputId": "142963f3-97ff-469c-ecdf-f095a278d4eb",
    "colab": {
     "base_uri": "https://localhost:8080/"
    }
   },
   "outputs": [
    {
     "data": {
      "text/plain": [
       "OrderedDict([('label', TensorSpec(shape=(), dtype=tf.int32, name=None)),\n",
       "             ('sensor_data',\n",
       "              TensorSpec(shape=(21,), dtype=tf.float64, name=None))])"
      ]
     },
     "execution_count": 16,
     "metadata": {
      "tags": []
     },
     "output_type": "execute_result"
    }
   ],
   "source": [
    "train_dataset.element_type_structure"
   ]
  },
  {
   "cell_type": "code",
   "execution_count": 17,
   "metadata": {
    "id": "lLrHg56VQ7PR",
    "outputId": "fd6de0f8-3c39-4424-b619-c0e54d03f8b3",
    "colab": {
     "base_uri": "https://localhost:8080/"
    }
   },
   "outputs": [
    {
     "data": {
      "text/plain": [
       "0"
      ]
     },
     "execution_count": 17,
     "metadata": {
      "tags": []
     },
     "output_type": "execute_result"
    }
   ],
   "source": [
    "example_dataset = train_dataset.create_tf_dataset_for_client(\n",
    "    train_dataset.client_ids[0])\n",
    "\n",
    "example_element = next(iter(example_dataset))\n",
    "\n",
    "example_element['label'].numpy()"
   ]
  },
  {
   "cell_type": "code",
   "execution_count": 18,
   "metadata": {
    "id": "aDAJRGjnRYUP",
    "outputId": "c1ce4f9c-c2b6-42a7-8403-0f2add2821d8",
    "colab": {
     "base_uri": "https://localhost:8080/"
    }
   },
   "outputs": [
    {
     "data": {
      "text/plain": [
       "array([-12.206  ,   1.6892 ,  -5.3638 ,  -0.13815,  -0.31397,  -7.1242 ,\n",
       "        -0.41558,  -0.90807,  -0.37721,  67.614  , -46.364  ,  -3.486  ,\n",
       "        -4.0507 , -15.319  ,   3.1299 ,  -0.77647,  -0.61191,   0.49784,\n",
       "        -7.8533 , -13.335  , -34.681  ])"
      ]
     },
     "execution_count": 18,
     "metadata": {
      "tags": []
     },
     "output_type": "execute_result"
    }
   ],
   "source": [
    "example_element['sensor_data'].numpy()"
   ]
  },
  {
   "cell_type": "code",
   "execution_count": 18,
   "metadata": {
    "id": "Al712tleRjoj"
   },
   "outputs": [],
   "source": [
    ""
   ]
  },
  {
   "cell_type": "code",
   "execution_count": 18,
   "metadata": {
    "id": "SZ-KGuIWRt5m"
   },
   "outputs": [],
   "source": [
    ""
   ]
  },
  {
   "cell_type": "markdown",
   "metadata": {
    "id": "xgw807GXRuGj"
   },
   "source": [
    "# Exploring Data"
   ]
  },
  {
   "cell_type": "code",
   "execution_count": 34,
   "metadata": {
    "id": "zuoU2iGTRv9a",
    "outputId": "deb1ac18-33c3-488b-d642-f9a503660948",
    "colab": {
     "base_uri": "https://localhost:8080/",
     "height": 478.0
    }
   },
   "outputs": [
    {
     "data": {
      "image/png": "[encoded data removed]",
      "text/plain": [
       "<Figure size 864x504 with 6 Axes>"
      ]
     },
     "metadata": {
      "tags": [],
      "needs_background": "light"
     },
     "output_type": "display_data"
    }
   ],
   "source": [
    "# from matplotlib import pyplot as plt\n",
    "\n",
    "# # Number of examples per layer for a sample of clients\n",
    "# f = plt.figure(figsize=(12, 7))\n",
    "# f.suptitle('Label Counts for a Sample of Clients')\n",
    "# for i in range(6):\n",
    "#   client_dataset = train_dataset.create_tf_dataset_for_client(\n",
    "#       train_dataset.client_ids[i])\n",
    "#   plot_data = collections.defaultdict(list)\n",
    "#   for example in client_dataset:\n",
    "#     # Append counts individually per label to make plots\n",
    "#     # more colorful instead of one color per plot.\n",
    "#     label = example['label'].numpy()\n",
    "#     plot_data[label].append(label)\n",
    "#   plt.subplot(2, 3, i+1)\n",
    "#   plt.title('Client {}'.format(i))\n",
    "#   for j in range(10):\n",
    "#     plt.hist(\n",
    "#         plot_data[j],\n",
    "#         density=False,\n",
    "#         bins=[0, 1, 2, 3, 4, 5, 6, 7])"
   ]
  },
  {
   "cell_type": "code",
   "execution_count": 19,
   "metadata": {
    "id": "GuqSelXlR8LP"
   },
   "outputs": [],
   "source": [
    ""
   ]
  },
  {
   "cell_type": "code",
   "execution_count": 19,
   "metadata": {
    "id": "LZI3dB7dStJG"
   },
   "outputs": [],
   "source": [
    ""
   ]
  },
  {
   "cell_type": "code",
   "execution_count": 19,
   "metadata": {
    "id": "vMwJye0CStMW"
   },
   "outputs": [],
   "source": [
    ""
   ]
  },
  {
   "cell_type": "markdown",
   "metadata": {
    "id": "sUlUWfXwStTM"
   },
   "source": [
    "# Prepocessing Input Data"
   ]
  },
  {
   "cell_type": "code",
   "execution_count": 20,
   "metadata": {
    "id": "NfsvkuljSx1O"
   },
   "outputs": [],
   "source": [
    "NUM_CLIENTS = 8\n",
    "NUM_EPOCHS = 5\n",
    "BATCH_SIZE = 20\n",
    "SHUFFLE_BUFFER = 100\n",
    "PREFETCH_BUFFER = 10\n",
    "\n",
    "def preprocess(dataset):\n",
    "\n",
    "  def batch_format_fn(element):\n",
    "    \"\"\"Flatten a batch `sensor_data` and return the features as an `OrderedDict`.\"\"\"\n",
    "    return collections.OrderedDict(\n",
    "        x=tf.reshape(element['sensor_data'], [-1, 21]),\n",
    "        y=tf.reshape(element['label'], [-1, 1]))\n",
    "\n",
    "  return dataset.repeat(NUM_EPOCHS).shuffle(SHUFFLE_BUFFER).batch(\n",
    "      BATCH_SIZE).map(batch_format_fn).prefetch(PREFETCH_BUFFER)"
   ]
  },
  {
   "cell_type": "code",
   "execution_count": 21,
   "metadata": {
    "id": "xM4FoPVbTEMR",
    "outputId": "22d4e0bf-d90a-4507-e1c8-2c7241afb88f",
    "colab": {
     "base_uri": "https://localhost:8080/"
    }
   },
   "outputs": [
    {
     "data": {
      "text/plain": [
       "OrderedDict([('x',\n",
       "              array([[-1.5568e+01, -3.7494e-01,  1.7241e+00, -3.5583e-01, -8.7912e-02,\n",
       "                       5.3496e+00, -5.2876e-01, -7.0919e-01, -6.2083e-01, -6.5222e+01,\n",
       "                      -9.6229e+01,  4.4114e+01, -6.4065e+00, -1.1639e+01,  2.0951e+00,\n",
       "                       2.9020e-01, -9.3224e-01, -5.4095e-01,  6.1043e+00, -3.5893e+01,\n",
       "                      -6.2335e+01],\n",
       "                     [-6.3561e+00,  1.6410e+00, -6.8207e+00,  2.5118e-01,  6.2794e-02,\n",
       "                       6.1740e-01, -3.7291e-01, -5.8912e-01,  6.0904e-01,  1.9805e-01,\n",
       "                       3.6499e-01, -5.8481e-01, -7.0132e+00, -1.2517e-01,  6.4833e+00,\n",
       "                      -1.5333e+00,  1.1992e+00,  5.0000e-01,  3.6266e-01,  3.5939e-01,\n",
       "                       3.6593e-03],\n",
       "                     [-8.8891e+00,  1.0543e-02, -2.8727e+00, -5.8608e-02, -1.3815e-01,\n",
       "                       2.1152e-01, -1.3173e-01, -6.7730e-01,  6.7976e-01, -4.5573e+00,\n",
       "                       4.4492e+00,  1.4897e+00, -7.1359e+00, -5.0878e+00,  2.2248e+00,\n",
       "                      -1.0863e+00,  3.0801e-02,  7.3922e-01,  5.5942e-01, -5.1778e+01,\n",
       "                      -2.2937e+01],\n",
       "                     [-8.7445e+00,  1.3651e+00, -2.8350e+00,  6.4050e-01,  6.2794e-01,\n",
       "                      -5.6395e-01, -2.0779e-01, -7.1107e-01,  4.9116e-01,  3.7000e-01,\n",
       "                       3.6327e-01, -2.9963e-01, -4.9652e+00, -2.2109e+00,  7.9103e+00,\n",
       "                      -1.4020e+00,  7.3511e-01,  8.0172e-01,  1.7585e-01, -3.6827e-01,\n",
       "                      -3.5381e-01],\n",
       "                     [-6.4923e+00, -1.6483e+00, -7.3168e+00,  1.0675e+00,  8.4982e-01,\n",
       "                      -2.3669e+00, -2.3006e-01, -6.5854e-01, -8.7230e-01,  2.6857e+00,\n",
       "                      -3.9383e-01, -1.1305e+01, -9.6676e+00, -5.3164e+00, -3.6408e+00,\n",
       "                      -1.3725e-01, -1.0842e+00, -1.8534e-01, -9.6539e+00, -3.1817e+01,\n",
       "                       3.9114e+01],\n",
       "                     [-9.3292e+00,  2.9659e-01,  1.4162e+00, -2.0931e-02,  7.9540e-02,\n",
       "                       1.0143e+00,  2.1336e-01, -6.6229e-01,  6.8762e-01, -1.0146e+00,\n",
       "                      -9.0728e-01, -2.2794e+00, -3.4765e+00, -8.7520e+00,  8.0198e-01,\n",
       "                      -7.8627e-01, -5.3799e-01,  5.8190e-01, -1.4619e+00, -2.5660e+00,\n",
       "                      -3.9747e+00],\n",
       "                     [-9.5537e+00, -9.2410e-02,  1.7075e+00, -6.5306e-01, -6.2376e-01,\n",
       "                       1.0194e+00, -3.5436e-01, -9.2495e-01, -4.0472e-01,  3.7444e-01,\n",
       "                       7.3020e-01, -4.4769e-01, -5.2583e+00,  3.4911e+00,  8.1121e+00,\n",
       "                      -9.6275e-01,  2.7926e-01,  4.6336e-01,  2.1486e+00, -5.7892e-01,\n",
       "                      -1.9446e+01],\n",
       "                     [-9.9271e+00,  3.9763e-01,  8.1473e-01,  7.1167e-02,  1.0047e-01,\n",
       "                       5.4505e-01, -2.1707e-01, -8.8368e-01, -5.0688e-01,  5.5933e-01,\n",
       "                       5.4487e-01, -5.9384e-01, -3.2589e+00, -8.8741e+00,  1.5875e+00,\n",
       "                      -7.8431e-02, -9.3018e-01, -3.4483e-01,  1.8126e-01,  1.7247e-01,\n",
       "                      -7.2012e-01],\n",
       "                     [-7.7246e+00, -1.3384e-01, -4.0152e-01, -8.3726e-02,  1.6745e-02,\n",
       "                      -6.0304e+00, -1.6698e-02, -1.0225e+00,  3.7328e-02,  4.5972e+01,\n",
       "                       2.5595e+01,  7.9155e+00, -2.6782e+00, -8.5255e+00,  1.4487e+00,\n",
       "                      -8.0392e-01, -5.2977e-01,  5.2155e-01,  1.4000e+01,  1.7614e+01,\n",
       "                      -3.1452e+00],\n",
       "                     [-9.6989e+00,  6.0301e-01,  1.7174e+00, -4.1026e-01,  5.0235e-02,\n",
       "                       9.9327e-01, -3.5807e-01, -7.5610e-01,  3.9489e-01,  3.7017e-01,\n",
       "                       9.1373e-01, -3.0514e-01, -7.4366e+00, -1.0509e+01,  4.0579e+00,\n",
       "                      -8.5686e-01, -5.9754e-01,  1.8750e-01, -1.3746e+01,  9.7621e+01,\n",
       "                      -7.0204e+01],\n",
       "                     [-1.3096e+01, -1.7662e+00,  1.9042e+00,  5.4422e-02,  2.9304e-02,\n",
       "                       2.8782e+00,  5.7328e-01, -7.8987e-01, -1.6110e-01,  6.0570e+01,\n",
       "                       5.2422e+01, -2.7421e+01, -5.2751e+00, -7.0581e+00,  3.1888e+00,\n",
       "                      -5.0588e-01, -6.6119e-01,  7.6078e-01,  3.0683e+00, -1.6326e+01,\n",
       "                       5.8347e+01],\n",
       "                     [-9.1353e+00,  1.9813e-01,  2.3652e+00, -1.6745e-02, -7.5353e-02,\n",
       "                       8.7749e-01,  5.0649e-01, -8.4053e-01, -5.4420e-01,  3.8305e-01,\n",
       "                       5.4663e-01, -7.3463e-01, -5.1553e+00, -7.3139e+00,  3.6135e+00,\n",
       "                       1.7255e-01, -7.1869e-01,  3.9440e-01,  1.8129e-01,  1.7608e-01,\n",
       "                      -3.5915e-01],\n",
       "                     [-9.1168e+00,  1.2952e+00, -2.2729e+00,  5.5259e-01,  4.7724e-01,\n",
       "                      -3.0023e-01, -2.2635e-01, -7.1482e-01,  5.1081e-01,  1.9372e-01,\n",
       "                       3.6504e-01, -4.4043e-01, -5.1150e+00, -1.8721e+00,  7.7918e+00,\n",
       "                      -1.4000e+00,  7.7618e-01,  7.7802e-01, -5.3495e-01,  3.6457e-01,\n",
       "                      -3.7536e-01],\n",
       "                     [-1.5426e+01, -1.4486e+00, -6.9304e+00,  1.8001e-01,  3.7677e-02,\n",
       "                      -4.3850e+00,  4.2486e-01, -7.6360e-01, -6.0707e-01, -1.0795e+01,\n",
       "                      -7.7323e+01,  7.7035e+01, -5.6170e+00, -1.0778e+01, -1.8410e+00,\n",
       "                      -4.6863e-01, -7.0226e-01,  7.8233e-01,  1.3284e+01,  5.3754e+01,\n",
       "                      -3.7817e+01],\n",
       "                     [-9.8390e+00, -1.9903e+00, -3.7370e+00, -2.9304e-02, -1.8838e-01,\n",
       "                       2.6358e+00,  8.9796e-01, -1.5009e-01, -8.6444e-02, -8.2491e+01,\n",
       "                       3.3669e+01,  1.4437e-02, -1.0958e+00,  1.0128e+01,  4.8189e+00,\n",
       "                       3.7647e-01,  1.6016e-01,  6.0345e-01, -2.6587e+01,  7.0251e+01,\n",
       "                       1.7458e+02],\n",
       "                     [-9.8067e+00, -6.8860e-02,  1.0959e-01,  1.2559e-01,  1.5071e-01,\n",
       "                       6.9500e-01, -2.6160e-01, -8.8555e-01, -4.7151e-01,  1.3325e-02,\n",
       "                       1.1008e+00, -4.4417e-01, -3.0271e+00, -9.1671e+00,  1.2916e+00,\n",
       "                       4.5098e-02, -9.9795e-01, -4.3534e-01,  7.5762e-01,  3.9488e+00,\n",
       "                      -3.6344e+00],\n",
       "                     [-9.9162e+00,  3.3841e+00, -1.8638e+00,  0.0000e+00,  2.5118e-02,\n",
       "                      -5.8953e+00,  1.0390e-01, -8.4240e-01, -5.4813e-01, -7.9764e+00,\n",
       "                       9.1456e+01,  4.3257e+01,  2.1181e+00, -1.3175e+01,  4.5581e-01,\n",
       "                      -6.0980e-01, -7.1253e-01,  4.3534e-01,  5.5587e+00, -1.8631e+01,\n",
       "                       2.9900e+01],\n",
       "                     [-9.1107e+00,  4.8432e-01,  3.3062e-02,  1.5071e-01,  3.6421e-01,\n",
       "                      -7.1563e+00,  4.0816e-01, -6.3790e-01, -7.7210e-01,  6.9235e+01,\n",
       "                       2.1326e+01, -1.4777e+02, -3.1127e+00, -8.6536e+00,  1.6402e+00,\n",
       "                      -9.2157e-02, -8.3162e-01,  9.2241e-01, -3.5206e+00,  2.4955e+01,\n",
       "                       4.1918e+01],\n",
       "                     [-6.0726e+00,  5.9755e-01, -8.2515e+00, -1.2140e-01, -1.5489e-01,\n",
       "                       2.7942e+00, -4.8423e-01, -6.5854e-01,  5.9528e-01, -1.5781e-01,\n",
       "                      -6.2370e+00,  5.2603e+00, -3.5426e+00, -5.9127e+00,  5.7252e+00,\n",
       "                      -6.8235e-01,  9.4456e-02,  1.0668e+00, -2.7804e+00,  9.2117e+00,\n",
       "                       2.9094e+01],\n",
       "                     [-9.1367e+00,  2.2873e+00,  5.2164e-01,  3.7677e-02,  3.7677e-02,\n",
       "                      -5.6442e+00,  4.1744e-01, -6.8668e-01, -3.3988e-01,  8.2926e-01,\n",
       "                      -5.5875e-01,  2.4421e+00, -4.2629e+00, -3.5007e+00,  7.9291e+00,\n",
       "                       2.4706e-01, -4.5585e-01,  1.1853e+00, -7.5823e+00, -4.1861e+00,\n",
       "                      -8.7740e+00]])),\n",
       "             ('y', array([[0],\n",
       "                     [0],\n",
       "                     [0],\n",
       "                     [0],\n",
       "                     [0],\n",
       "                     [0],\n",
       "                     [0],\n",
       "                     [1],\n",
       "                     [0],\n",
       "                     [0],\n",
       "                     [0],\n",
       "                     [0],\n",
       "                     [0],\n",
       "                     [0],\n",
       "                     [0],\n",
       "                     [0],\n",
       "                     [0],\n",
       "                     [0],\n",
       "                     [0],\n",
       "                     [0]], dtype=int32))])"
      ]
     },
     "execution_count": 21,
     "metadata": {
      "tags": []
     },
     "output_type": "execute_result"
    }
   ],
   "source": [
    "import tensorflow as tf\n",
    "\n",
    "preprocessed_example_dataset = preprocess(example_dataset)\n",
    "\n",
    "sample_batch = tf.nest.map_structure(lambda x: x.numpy(),\n",
    "                                     next(iter(preprocessed_example_dataset)))\n",
    "\n",
    "sample_batch"
   ]
  },
  {
   "cell_type": "code",
   "execution_count": 22,
   "metadata": {
    "id": "nkIoOGTYTKal"
   },
   "outputs": [],
   "source": [
    "def make_federated_data(client_data, client_ids):\n",
    "  return [\n",
    "      preprocess(client_data.create_tf_dataset_for_client(x))\n",
    "      for x in client_ids\n",
    "  ]"
   ]
  },
  {
   "cell_type": "code",
   "execution_count": 23,
   "metadata": {
    "id": "iZQvp2VHTf8d",
    "outputId": "fcc3474d-57e2-47b4-ae8f-36488c245805",
    "colab": {
     "base_uri": "https://localhost:8080/"
    }
   },
   "outputs": [
    {
     "name": "stdout",
     "output_type": "stream",
     "text": [
      "Number of client datasets: 8\n",
      "First dataset: <PrefetchDataset shapes: OrderedDict([(x, (None, 21)), (y, (None, 1))]), types: OrderedDict([(x, tf.float64), (y, tf.int32)])>\n"
     ]
    }
   ],
   "source": [
    "sample_clients = train_dataset.client_ids[0:NUM_CLIENTS]\n",
    "\n",
    "federated_train_data = make_federated_data(train_dataset, sample_clients)\n",
    "\n",
    "print('Number of client datasets: {l}'.format(l=len(federated_train_data)))\n",
    "print('First dataset: {d}'.format(d=federated_train_data[0]))"
   ]
  },
  {
   "cell_type": "code",
   "execution_count": 23,
   "metadata": {
    "id": "A762SwScTjHa"
   },
   "outputs": [],
   "source": [
    ""
   ]
  },
  {
   "cell_type": "code",
   "execution_count": 24,
   "metadata": {
    "id": "0usULtjwTyLW",
    "outputId": "dbe6cb7e-7e03-403b-bbe3-f0def219dc15",
    "colab": {
     "base_uri": "https://localhost:8080/"
    }
   },
   "outputs": [
    {
     "name": "stdout",
     "output_type": "stream",
     "text": [
      "Number of client datasets: 8\n",
      "First dataset: <PrefetchDataset shapes: OrderedDict([(x, (None, 21)), (y, (None, 1))]), types: OrderedDict([(x, tf.float64), (y, tf.int32)])>\n"
     ]
    }
   ],
   "source": [
    "sample_clients = train_dataset.client_ids[0:NUM_CLIENTS]\n",
    "\n",
    "federated_test_data = make_federated_data(train_dataset, sample_clients)\n",
    "\n",
    "print('Number of client datasets: {l}'.format(l=len(federated_train_data)))\n",
    "print('First dataset: {d}'.format(d=federated_train_data[0]))"
   ]
  },
  {
   "cell_type": "code",
   "execution_count": 24,
   "metadata": {
    "id": "L54FYPx5TyVb"
   },
   "outputs": [],
   "source": [
    ""
   ]
  },
  {
   "cell_type": "markdown",
   "metadata": {
    "id": "5Ah6BBRMTyfJ"
   },
   "source": [
    "# Create Model"
   ]
  },
  {
   "cell_type": "code",
   "execution_count": 25,
   "metadata": {
    "id": "p_kz-JRFT0fa"
   },
   "outputs": [],
   "source": [
    "def create_keras_model():\n",
    "  return tf.keras.models.Sequential([\n",
    "      tf.keras.layers.Input(shape=(21,)),\n",
    "      tf.keras.layers.Dense(10, kernel_initializer='zeros'),\n",
    "      tf.keras.layers.Softmax(),\n",
    "  ])"
   ]
  },
  {
   "cell_type": "code",
   "execution_count": 26,
   "metadata": {
    "id": "XOOMP0TlT3pi"
   },
   "outputs": [],
   "source": [
    "def model_fn():\n",
    "  # We _must_ create a new model here, and _not_ capture it from an external\n",
    "  # scope. TFF will call this within different graph contexts.\n",
    "  keras_model = create_keras_model()\n",
    "  return tff.learning.from_keras_model(\n",
    "      keras_model,\n",
    "      input_spec=preprocessed_example_dataset.element_spec,\n",
    "      loss=tf.keras.losses.SparseCategoricalCrossentropy(),\n",
    "      metrics=[tf.keras.metrics.SparseCategoricalAccuracy()])"
   ]
  },
  {
   "cell_type": "code",
   "execution_count": 27,
   "metadata": {
    "id": "X1WN-SauT4OV"
   },
   "outputs": [],
   "source": [
    "iterative_process = tff.learning.build_federated_averaging_process(\n",
    "    model_fn,\n",
    "    client_optimizer_fn=lambda: tf.keras.optimizers.SGD(learning_rate=0.02),\n",
    "    server_optimizer_fn=lambda: tf.keras.optimizers.SGD(learning_rate=1.0))"
   ]
  },
  {
   "cell_type": "code",
   "execution_count": 28,
   "metadata": {
    "id": "6k-9YDruT6SA",
    "outputId": "64112661-d22b-48f8-b2a4-1fa74dde3488",
    "colab": {
     "base_uri": "https://localhost:8080/",
     "height": 35.0
    }
   },
   "outputs": [
    {
     "data": {
      "text/plain": [
       "'( -> <model=<trainable=<float32[21,10],float32[10]>,non_trainable=<>>,optimizer_state=<int64>,delta_aggregate_state=<value_sum_process=<>,weight_sum_process=<>>,model_broadcast_state=<>>@SERVER)'"
      ]
     },
     "execution_count": 28,
     "metadata": {
      "tags": []
     },
     "output_type": "execute_result"
    }
   ],
   "source": [
    "str(iterative_process.initialize.type_signature)"
   ]
  },
  {
   "cell_type": "code",
   "execution_count": 29,
   "metadata": {
    "id": "mvfa-7_nUAmO"
   },
   "outputs": [],
   "source": [
    "state = iterative_process.initialize()"
   ]
  },
  {
   "cell_type": "code",
   "execution_count": 30,
   "metadata": {
    "id": "ltHtPls1UDkW"
   },
   "outputs": [],
   "source": [
    "# state, metrics = iterative_process.next(state, federated_train_data)\n",
    "# print('round  1, metrics={}'.format(metrics))"
   ]
  },
  {
   "cell_type": "code",
   "execution_count": 31,
   "metadata": {
    "id": "6_qqyp63WPv-"
   },
   "outputs": [],
   "source": [
    "# NUM_ROUNDS = 50\n",
    "# for round_num in range(2, NUM_ROUNDS):\n",
    "#   state, metrics = iterative_process.next(state, federated_train_data)\n",
    "#   print('round {:2d}, metrics={}'.format(round_num, metrics))"
   ]
  },
  {
   "cell_type": "code",
   "execution_count": 32,
   "metadata": {
    "id": "C6uYf4y6WbQY"
   },
   "outputs": [],
   "source": [
    "# NUM_ROUNDS = 100\n",
    "# for round_num in range(50, NUM_ROUNDS):\n",
    "#   state, metrics = iterative_process.next(state, federated_train_data)\n",
    "#   print('round {:2d}, metrics={}'.format(round_num, metrics))"
   ]
  },
  {
   "cell_type": "code",
   "execution_count": 32,
   "metadata": {
    "id": "4XL9XPoBk7Yu"
   },
   "outputs": [],
   "source": [
    ""
   ]
  },
  {
   "cell_type": "code",
   "execution_count": 33,
   "metadata": {
    "id": "qNriJNoel2gf",
    "outputId": "5b527f13-f65d-41c6-c8e9-8a815716c6f0",
    "colab": {
     "base_uri": "https://localhost:8080/"
    }
   },
   "outputs": [
    {
     "name": "stdout",
     "output_type": "stream",
     "text": [
      "round  1, metrics=OrderedDict([('broadcast', ()), ('aggregation', OrderedDict([('value_sum_process', ()), ('weight_sum_process', ())])), ('train', OrderedDict([('sparse_categorical_accuracy', 0.76195705), ('loss', 2.4642746)]))])\n",
      "Eval loss : 2.6734390258789062 and Eval accuracy : 0.7615887522697449\n",
      "round  2, metrics=OrderedDict([('broadcast', ()), ('aggregation', OrderedDict([('value_sum_process', ()), ('weight_sum_process', ())])), ('train', OrderedDict([('sparse_categorical_accuracy', 0.7697308), ('loss', 2.338925)]))])\n",
      "Eval loss : 2.492234468460083 and Eval accuracy : 0.7871789932250977\n",
      "round  3, metrics=OrderedDict([('broadcast', ()), ('aggregation', OrderedDict([('value_sum_process', ()), ('weight_sum_process', ())])), ('train', OrderedDict([('sparse_categorical_accuracy', 0.7731957), ('loss', 2.284483)]))])\n",
      "Eval loss : 2.3966786861419678 and Eval accuracy : 0.7837328314781189\n",
      "round  4, metrics=OrderedDict([('broadcast', ()), ('aggregation', OrderedDict([('value_sum_process', ()), ('weight_sum_process', ())])), ('train', OrderedDict([('sparse_categorical_accuracy', 0.77565044), ('loss', 2.2517004)]))])\n",
      "Eval loss : 2.2869629859924316 and Eval accuracy : 0.800194263458252\n",
      "round  5, metrics=OrderedDict([('broadcast', ()), ('aggregation', OrderedDict([('value_sum_process', ()), ('weight_sum_process', ())])), ('train', OrderedDict([('sparse_categorical_accuracy', 0.77737087), ('loss', 2.2284474)]))])\n",
      "Eval loss : 2.370581865310669 and Eval accuracy : 0.7924213409423828\n",
      "round  6, metrics=OrderedDict([('broadcast', ()), ('aggregation', OrderedDict([('value_sum_process', ()), ('weight_sum_process', ())])), ('train', OrderedDict([('sparse_categorical_accuracy', 0.7790281), ('loss', 2.211661)]))])\n",
      "Eval loss : 2.3221654891967773 and Eval accuracy : 0.7967481017112732\n",
      "round  7, metrics=OrderedDict([('broadcast', ()), ('aggregation', OrderedDict([('value_sum_process', ()), ('weight_sum_process', ())])), ('train', OrderedDict([('sparse_categorical_accuracy', 0.7799851), ('loss', 2.1967876)]))])\n",
      "Eval loss : 2.3471171855926514 and Eval accuracy : 0.792203426361084\n",
      "round  8, metrics=OrderedDict([('broadcast', ()), ('aggregation', OrderedDict([('value_sum_process', ()), ('weight_sum_process', ())])), ('train', OrderedDict([('sparse_categorical_accuracy', 0.7805833), ('loss', 2.1908028)]))])\n",
      "Eval loss : 2.279813289642334 and Eval accuracy : 0.7987081408500671\n",
      "round  9, metrics=OrderedDict([('broadcast', ()), ('aggregation', OrderedDict([('value_sum_process', ()), ('weight_sum_process', ())])), ('train', OrderedDict([('sparse_categorical_accuracy', 0.781367), ('loss', 2.1812477)]))])\n",
      "Eval loss : 2.309821128845215 and Eval accuracy : 0.7960079312324524\n",
      "round 10, metrics=OrderedDict([('broadcast', ()), ('aggregation', OrderedDict([('value_sum_process', ()), ('weight_sum_process', ())])), ('train', OrderedDict([('sparse_categorical_accuracy', 0.7820352), ('loss', 2.174446)]))])\n",
      "Eval loss : 2.2087936401367188 and Eval accuracy : 0.8089149594306946\n",
      "round 11, metrics=OrderedDict([('broadcast', ()), ('aggregation', OrderedDict([('value_sum_process', ()), ('weight_sum_process', ())])), ('train', OrderedDict([('sparse_categorical_accuracy', 0.7826133), ('loss', 2.1695266)]))])\n",
      "Eval loss : 2.3247318267822266 and Eval accuracy : 0.7897357940673828\n",
      "round 12, metrics=OrderedDict([('broadcast', ()), ('aggregation', OrderedDict([('value_sum_process', ()), ('weight_sum_process', ())])), ('train', OrderedDict([('sparse_categorical_accuracy', 0.7831173), ('loss', 2.165228)]))])\n",
      "Eval loss : 2.232426166534424 and Eval accuracy : 0.8013439178466797\n",
      "round 13, metrics=OrderedDict([('broadcast', ()), ('aggregation', OrderedDict([('value_sum_process', ()), ('weight_sum_process', ())])), ('train', OrderedDict([('sparse_categorical_accuracy', 0.7832557), ('loss', 2.1630604)]))])\n",
      "Eval loss : 2.21218204498291 and Eval accuracy : 0.8042722940444946\n",
      "round 14, metrics=OrderedDict([('broadcast', ()), ('aggregation', OrderedDict([('value_sum_process', ()), ('weight_sum_process', ())])), ('train', OrderedDict([('sparse_categorical_accuracy', 0.7837577), ('loss', 2.1573706)]))])\n",
      "Eval loss : 2.3020029067993164 and Eval accuracy : 0.801360011100769\n",
      "round 15, metrics=OrderedDict([('broadcast', ()), ('aggregation', OrderedDict([('value_sum_process', ()), ('weight_sum_process', ())])), ('train', OrderedDict([('sparse_categorical_accuracy', 0.78405726), ('loss', 2.1547287)]))])\n",
      "Eval loss : 2.1878368854522705 and Eval accuracy : 0.8047081828117371\n",
      "round 16, metrics=OrderedDict([('broadcast', ()), ('aggregation', OrderedDict([('value_sum_process', ()), ('weight_sum_process', ())])), ('train', OrderedDict([('sparse_categorical_accuracy', 0.78415996), ('loss', 2.1535625)]))])\n",
      "Eval loss : 2.330658197402954 and Eval accuracy : 0.7971839904785156\n",
      "round 17, metrics=OrderedDict([('broadcast', ()), ('aggregation', OrderedDict([('value_sum_process', ()), ('weight_sum_process', ())])), ('train', OrderedDict([('sparse_categorical_accuracy', 0.7846368), ('loss', 2.1441493)]))])\n",
      "Eval loss : 2.310044527053833 and Eval accuracy : 0.7944325804710388\n",
      "round 18, metrics=OrderedDict([('broadcast', ()), ('aggregation', OrderedDict([('value_sum_process', ()), ('weight_sum_process', ())])), ('train', OrderedDict([('sparse_categorical_accuracy', 0.7847418), ('loss', 2.1481102)]))])\n",
      "Eval loss : 2.2446699142456055 and Eval accuracy : 0.8060231804847717\n",
      "round 19, metrics=OrderedDict([('broadcast', ()), ('aggregation', OrderedDict([('value_sum_process', ()), ('weight_sum_process', ())])), ('train', OrderedDict([('sparse_categorical_accuracy', 0.7848231), ('loss', 2.1419728)]))])\n",
      "Eval loss : 2.203329563140869 and Eval accuracy : 0.8076350688934326\n",
      "round 20, metrics=OrderedDict([('broadcast', ()), ('aggregation', OrderedDict([('value_sum_process', ()), ('weight_sum_process', ())])), ('train', OrderedDict([('sparse_categorical_accuracy', 0.78494805), ('loss', 2.1443348)]))])\n",
      "Eval loss : 2.2333199977874756 and Eval accuracy : 0.8068569302558899\n"
     ]
    }
   ],
   "source": [
    "tff_train_acc = []\n",
    "tff_val_acc = []\n",
    "tff_train_loss = []\n",
    "tff_val_loss = []\n",
    "\n",
    "NUM_ROUNDS = 20\n",
    "\n",
    "eval_model = None\n",
    "for round_num in range(1, NUM_ROUNDS+1):\n",
    "    state, tff_metrics = iterative_process.next(state, federated_train_data)\n",
    "    \n",
    "    eval_model = model_fn\n",
    "    evaluation = tff.learning.build_federated_evaluation(eval_model)\n",
    "    test_metrics = evaluation(state.model, federated_test_data)\n",
    "\n",
    "    print('round {:2d}, metrics={}'.format(round_num, tff_metrics))\n",
    "    print(f\"Eval loss : {test_metrics['loss']} and Eval accuracy : {test_metrics['sparse_categorical_accuracy']}\")\n",
    "    # print(tff_metrics)\n",
    "    # print(test_metrics)\n",
    "    tff_train_acc.append(float(tff_metrics['train']['sparse_categorical_accuracy']))\n",
    "    tff_val_acc.append(test_metrics['sparse_categorical_accuracy'])\n",
    "    tff_train_loss.append(float(tff_metrics['train']['loss']))\n",
    "    tff_val_loss.append(test_metrics['loss'])"
   ]
  },
  {
   "cell_type": "code",
   "execution_count": 51,
   "metadata": {
    "id": "DHyiirZwSQDu"
   },
   "outputs": [],
   "source": [
    "# this_dir = Path.cwd()\n",
    "# model_dir = this_dir / \"saved_models\" / experiment_name / method\n",
    "\n",
    "# eval_model().saved_models(model_dir / (experiment_name + \".h5\"))"
   ]
  },
  {
   "cell_type": "code",
   "execution_count": 35,
   "metadata": {
    "id": "Rg-l_gNBl2no"
   },
   "outputs": [],
   "source": [
    "metric_collection = {\"sparse_categorical_accuracy\": tff_train_acc,\n",
    "                     \"val_sparse_categorical_accuracy\": tff_val_acc,\n",
    "                     \"loss\": tff_train_loss,\n",
    "                     \"val_loss\": tff_val_loss}"
   ]
  },
  {
   "cell_type": "code",
   "execution_count": 37,
   "metadata": {
    "id": "JNknAPstl2t9",
    "outputId": "808f0e75-2525-4c40-ce9e-ffdfe753192e",
    "colab": {
     "base_uri": "https://localhost:8080/",
     "height": 763.0
    }
   },
   "outputs": [
    {
     "data": {
      "image/png": "[encoded data removed]",
      "text/plain": [
       "<Figure size 720x432 with 1 Axes>"
      ]
     },
     "metadata": {
      "tags": [],
      "needs_background": "light"
     },
     "output_type": "display_data"
    },
    {
     "data": {
      "image/png": "[encoded data removed]",
      "text/plain": [
       "<Figure size 720x432 with 1 Axes>"
      ]
     },
     "metadata": {
      "tags": [],
      "needs_background": "light"
     },
     "output_type": "display_data"
    }
   ],
   "source": [
    "from matplotlib import pyplot as plt\n",
    "\n",
    "def plot_graph(X, y, format = '-', label=''):\n",
    "    plt.plot(X, y, format, label=label)\n",
    "    plt.xlabel(\"Epoch\")\n",
    "    plt.ylabel(\"Value\")\n",
    "    plt.grid(True)\n",
    "\n",
    "fig = plt.figure(figsize=(10, 6))\n",
    "plot_graph(list(range(1, 21)), tff_train_acc, label='Train Accuracy')\n",
    "plot_graph(list(range(1, 21)), tff_val_acc, label='Validation Accuracy')\n",
    "plt.legend()\n",
    "plt.savefig(\"federated_model_Accuracy.png\")\n",
    "\n",
    "plt.figure(figsize=(10, 6))\n",
    "plot_graph(list(range(1, 21)), tff_train_loss, label='Train loss')\n",
    "plot_graph(list(range(1, 21)), tff_val_loss, label='Validation loss')\n",
    "plt.legend()\n",
    "plt.savefig(\"federated_model_loss.png\")"
   ]
  },
  {
   "cell_type": "code",
   "execution_count": 41,
   "metadata": {
    "id": "HA0NXY4Il21R"
   },
   "outputs": [],
   "source": [
    "# saving metric values to text file\n",
    "from pathlib import Path\n",
    "\n",
    "experiment_name = \"sensor\"\n",
    "method = \"tff_training\"\n",
    "\n",
    "this_dir = Path.cwd()\n",
    "model_dir = this_dir / \"saved_models\" / experiment_name / method\n",
    "output_dir = this_dir / \"results\" / experiment_name / method\n",
    "\n",
    "if not model_dir.exists():\n",
    "    model_dir.mkdir(parents=True)\n",
    "\n",
    "if not output_dir.exists():\n",
    "    output_dir.mkdir(parents=True)\n",
    "    \n",
    "txt_file_path = output_dir / (experiment_name + \".txt\")\n",
    "with open(txt_file_path.as_posix(), \"w\") as handle:\n",
    "    content = []\n",
    "    for key, val in metric_collection.items():\n",
    "        line_content = key\n",
    "        val = [str(k) for k in val]\n",
    "        line_content = line_content + \" \" + \" \".join(val)\n",
    "        content.append(line_content)\n",
    "    handle.write(\"\\n\".join(content))"
   ]
  },
  {
   "cell_type": "code",
   "execution_count": 38,
   "metadata": {
    "id": "6uaYMCg9l28w"
   },
   "outputs": [],
   "source": [
    "# tff_metrics"
   ]
  },
  {
   "cell_type": "markdown",
   "metadata": {
    "id": "TgL0MhMBl3N5"
   },
   "source": [
    "## Refference\n",
    "1. https://www.tensorflow.org/federated/tutorials/federated_learning_for_image_classification\n",
    "1. https://colab.research.google.com/github/tensorflow/federated/blob/master/docs/tutorials/federated_learning_for_image_classification.ipynb#scrollTo=qrJkQuCRJP9C\n",
    "1. https://github.com/CS-savvy/experiment_with_tf_federated/blob/master/train_tff.py\n",
    "1. https://stackoverflow.com/questions/54316779/change-size-of-train-and-test-set-from-mnist-dataset\n",
    "1. https://www.tensorflow.org/federated/api_docs/python/tff/learning/build_federated_averaging_process\n",
    "1. https://stackoverflow.com/questions/58004272/is-there-a-reasonable-way-to-create-tff-clients-datat-sets\n",
    "1. https://stackoverflow.com/questions/54316779/change-size-of-train-and-test-set-from-mnist-dataset\n"
   ]
  },
  {
   "cell_type": "code",
   "execution_count": null,
   "metadata": {
    "id": "PMCA3X0rl3h1"
   },
   "outputs": [],
   "source": [
    ""
   ]
  }
 ],
 "metadata": {
  "colab": {
   "name": "final-TFF.ipynb",
   "provenance": [],
   "collapsed_sections": [],
   "toc_visible": true
  },
  "kernelspec": {
   "name": "python3",
   "display_name": "Python 3"
  },
  "accelerator": "TPU"
 },
 "nbformat": 4,
 "nbformat_minor": 0
}
